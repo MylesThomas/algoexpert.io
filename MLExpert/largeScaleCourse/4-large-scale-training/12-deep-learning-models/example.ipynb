{
 "cells": [
  {
   "cell_type": "code",
   "execution_count": 9,
   "metadata": {},
   "outputs": [
    {
     "name": "stdout",
     "output_type": "stream",
     "text": [
      "Number CPUs available: 1\n",
      "[PhysicalDevice(name='/physical_device:CPU:0', device_type='CPU')]\n",
      "Number GPUs available: 0\n",
      "[]\n"
     ]
    }
   ],
   "source": [
    "import tensorflow as tf\n",
    "print(f\"Number CPUs available: {len(tf.config.list_physical_devices('CPU'))}\\n{tf.config.list_physical_devices('CPU')}\")\n",
    "print(f\"Number GPUs available: {len(tf.config.list_physical_devices('GPU'))}\\n{tf.config.list_physical_devices('GPU')}\")"
   ]
  },
  {
   "cell_type": "code",
   "execution_count": 6,
   "metadata": {},
   "outputs": [
    {
     "name": "stdout",
     "output_type": "stream",
     "text": [
      "Epoch 1/20\n",
      "1/1 [==============================] - 1s 1s/step - loss: 9.4051 - binary_accuracy: 0.4000\n",
      "Epoch 2/20\n",
      "1/1 [==============================] - 0s 12ms/step - loss: 1.4003 - binary_accuracy: 0.6000\n",
      "Epoch 3/20\n",
      "1/1 [==============================] - 0s 14ms/step - loss: 2.4057 - binary_accuracy: 0.4000\n",
      "Epoch 4/20\n",
      "1/1 [==============================] - 0s 13ms/step - loss: 3.4460 - binary_accuracy: 0.6000\n",
      "Epoch 5/20\n",
      "1/1 [==============================] - 0s 12ms/step - loss: 0.7233 - binary_accuracy: 0.6000\n",
      "Epoch 6/20\n",
      "1/1 [==============================] - 0s 12ms/step - loss: 1.5220 - binary_accuracy: 0.4000\n",
      "Epoch 7/20\n",
      "1/1 [==============================] - 0s 10ms/step - loss: 2.7303 - binary_accuracy: 0.6000\n",
      "Epoch 8/20\n",
      "1/1 [==============================] - 0s 14ms/step - loss: 0.6034 - binary_accuracy: 0.6000\n",
      "Epoch 9/20\n",
      "1/1 [==============================] - 0s 13ms/step - loss: 0.9224 - binary_accuracy: 0.4000\n",
      "Epoch 10/20\n",
      "1/1 [==============================] - 0s 13ms/step - loss: 1.8531 - binary_accuracy: 0.6000\n",
      "Epoch 11/20\n",
      "1/1 [==============================] - 0s 14ms/step - loss: 0.5420 - binary_accuracy: 0.8000\n",
      "Epoch 12/20\n",
      "1/1 [==============================] - 0s 14ms/step - loss: 0.6685 - binary_accuracy: 0.6000\n",
      "Epoch 13/20\n",
      "1/1 [==============================] - 0s 12ms/step - loss: 0.9301 - binary_accuracy: 0.4000\n",
      "Epoch 14/20\n",
      "1/1 [==============================] - 0s 12ms/step - loss: 1.6420 - binary_accuracy: 0.6000\n",
      "Epoch 15/20\n",
      "1/1 [==============================] - 0s 12ms/step - loss: 0.5232 - binary_accuracy: 0.8000\n",
      "Epoch 16/20\n",
      "1/1 [==============================] - 0s 11ms/step - loss: 0.5869 - binary_accuracy: 0.6000\n",
      "Epoch 17/20\n",
      "1/1 [==============================] - 0s 12ms/step - loss: 0.7140 - binary_accuracy: 0.4000\n",
      "Epoch 18/20\n",
      "1/1 [==============================] - 0s 13ms/step - loss: 1.1401 - binary_accuracy: 0.6000\n",
      "Epoch 19/20\n",
      "1/1 [==============================] - 0s 13ms/step - loss: 0.6504 - binary_accuracy: 0.4000\n",
      "Epoch 20/20\n",
      "1/1 [==============================] - 0s 12ms/step - loss: 0.9480 - binary_accuracy: 0.6000\n"
     ]
    }
   ],
   "source": [
    "training_features = [\n",
    "    [25.0, 9.0, 2.0],\n",
    "    [21.0, 2.0, 1.0],\n",
    "    [22.0, 5.0, 2.0],\n",
    "    [36.0, 11.0, 1.0],\n",
    "    [33.0, 7.0, 1.0],\n",
    "]\n",
    "training_label = [0,1,0,0,1,]\n",
    "\n",
    "model = tf.keras.models.Sequential(\n",
    "    [\n",
    "        tf.keras.layers.Dense(5, input_dim=3, activation=\"relu\"),\n",
    "        tf.keras.layers.Dense(3, activation=\"relu\"),\n",
    "        tf.keras.layers.Dense(1, activation=\"sigmoid\")\n",
    "    ]\n",
    ")\n",
    "\n",
    "optimizer = tf.keras.optimizers.SGD(learning_rate=0.01)\n",
    "\n",
    "model.compile(optimizer=optimizer, loss='binary_crossentropy', metrics=['binary_accuracy'])\n",
    "\n",
    "with tf.device('/:CPU:0'):\n",
    "    model.fit(training_features, training_label, epochs=20)"
   ]
  },
  {
   "cell_type": "code",
   "execution_count": 8,
   "metadata": {},
   "outputs": [
    {
     "name": "stdout",
     "output_type": "stream",
     "text": [
      "Epoch 1/20\n",
      "1/1 [==============================] - 0s 11ms/step - loss: 0.5323 - binary_accuracy: 0.8000\n"
     ]
    },
    {
     "name": "stdout",
     "output_type": "stream",
     "text": [
      "Epoch 2/20\n",
      "1/1 [==============================] - 0s 12ms/step - loss: 0.5897 - binary_accuracy: 0.8000\n",
      "Epoch 3/20\n",
      "1/1 [==============================] - 0s 9ms/step - loss: 0.5233 - binary_accuracy: 0.8000\n",
      "Epoch 4/20\n",
      "1/1 [==============================] - 0s 10ms/step - loss: 0.5737 - binary_accuracy: 0.8000\n",
      "Epoch 5/20\n",
      "1/1 [==============================] - 0s 11ms/step - loss: 0.5149 - binary_accuracy: 0.8000\n",
      "Epoch 6/20\n",
      "1/1 [==============================] - 0s 11ms/step - loss: 0.5596 - binary_accuracy: 0.8000\n",
      "Epoch 7/20\n",
      "1/1 [==============================] - 0s 12ms/step - loss: 0.5074 - binary_accuracy: 0.8000\n",
      "Epoch 8/20\n",
      "1/1 [==============================] - 0s 12ms/step - loss: 0.5473 - binary_accuracy: 0.8000\n",
      "Epoch 9/20\n",
      "1/1 [==============================] - 0s 10ms/step - loss: 0.5005 - binary_accuracy: 0.8000\n",
      "Epoch 10/20\n",
      "1/1 [==============================] - 0s 13ms/step - loss: 0.5366 - binary_accuracy: 0.8000\n",
      "Epoch 11/20\n",
      "1/1 [==============================] - 0s 13ms/step - loss: 0.4943 - binary_accuracy: 0.8000\n",
      "Epoch 12/20\n",
      "1/1 [==============================] - 0s 11ms/step - loss: 0.5272 - binary_accuracy: 0.8000\n",
      "Epoch 13/20\n",
      "1/1 [==============================] - 0s 11ms/step - loss: 0.4886 - binary_accuracy: 0.8000\n",
      "Epoch 14/20\n",
      "1/1 [==============================] - 0s 11ms/step - loss: 0.5189 - binary_accuracy: 0.8000\n",
      "Epoch 15/20\n",
      "1/1 [==============================] - 0s 10ms/step - loss: 0.4834 - binary_accuracy: 0.8000\n",
      "Epoch 16/20\n",
      "1/1 [==============================] - 0s 13ms/step - loss: 0.5114 - binary_accuracy: 0.8000\n",
      "Epoch 17/20\n",
      "1/1 [==============================] - 0s 12ms/step - loss: 0.4786 - binary_accuracy: 0.8000\n",
      "Epoch 18/20\n",
      "1/1 [==============================] - 0s 13ms/step - loss: 0.5047 - binary_accuracy: 0.8000\n",
      "Epoch 19/20\n",
      "1/1 [==============================] - 0s 12ms/step - loss: 0.4742 - binary_accuracy: 0.8000\n",
      "Epoch 20/20\n",
      "1/1 [==============================] - 0s 12ms/step - loss: 0.4986 - binary_accuracy: 0.8000\n"
     ]
    }
   ],
   "source": [
    "with tf.device('/:GPU:0'):\n",
    "    model.fit(training_features, training_label, epochs=20)"
   ]
  },
  {
   "cell_type": "code",
   "execution_count": 10,
   "metadata": {},
   "outputs": [
    {
     "name": "stdout",
     "output_type": "stream",
     "text": [
      "WARNING:tensorflow:There are non-GPU devices in `tf.distribute.Strategy`, not using nccl allreduce.\n",
      "INFO:tensorflow:Using MirroredStrategy with devices ('/job:localhost/replica:0/task:0/device:CPU:0',)\n",
      "Epoch 1/20\n",
      "1/1 [==============================] - 1s 841ms/step - loss: 1.0515 - binary_accuracy: 0.4000\n",
      "Epoch 2/20\n",
      "1/1 [==============================] - 0s 22ms/step - loss: 0.7189 - binary_accuracy: 0.4000\n",
      "Epoch 3/20\n",
      "1/1 [==============================] - 0s 22ms/step - loss: 0.6926 - binary_accuracy: 0.6000\n",
      "Epoch 4/20\n",
      "1/1 [==============================] - 0s 19ms/step - loss: 0.6925 - binary_accuracy: 0.6000\n",
      "Epoch 5/20\n",
      "1/1 [==============================] - 0s 17ms/step - loss: 0.6924 - binary_accuracy: 0.6000\n",
      "Epoch 6/20\n",
      "1/1 [==============================] - 0s 20ms/step - loss: 0.6923 - binary_accuracy: 0.6000\n",
      "Epoch 7/20\n",
      "1/1 [==============================] - 0s 17ms/step - loss: 0.6922 - binary_accuracy: 0.6000\n",
      "Epoch 8/20\n",
      "1/1 [==============================] - 0s 18ms/step - loss: 0.6921 - binary_accuracy: 0.6000\n",
      "Epoch 9/20\n",
      "1/1 [==============================] - 0s 17ms/step - loss: 0.6920 - binary_accuracy: 0.6000\n",
      "Epoch 10/20\n",
      "1/1 [==============================] - 0s 17ms/step - loss: 0.6919 - binary_accuracy: 0.6000\n",
      "Epoch 11/20\n",
      "1/1 [==============================] - 0s 17ms/step - loss: 0.6918 - binary_accuracy: 0.6000\n",
      "Epoch 12/20\n",
      "1/1 [==============================] - 0s 17ms/step - loss: 0.6917 - binary_accuracy: 0.6000\n",
      "Epoch 13/20\n",
      "1/1 [==============================] - 0s 19ms/step - loss: 0.6916 - binary_accuracy: 0.6000\n",
      "Epoch 14/20\n",
      "1/1 [==============================] - 0s 19ms/step - loss: 0.6915 - binary_accuracy: 0.6000\n",
      "Epoch 15/20\n",
      "1/1 [==============================] - 0s 14ms/step - loss: 0.6914 - binary_accuracy: 0.6000\n",
      "Epoch 16/20\n",
      "1/1 [==============================] - 0s 16ms/step - loss: 0.6914 - binary_accuracy: 0.6000\n",
      "Epoch 17/20\n",
      "1/1 [==============================] - 0s 15ms/step - loss: 0.6913 - binary_accuracy: 0.6000\n",
      "Epoch 18/20\n",
      "1/1 [==============================] - 0s 18ms/step - loss: 0.6912 - binary_accuracy: 0.6000\n",
      "Epoch 19/20\n",
      "1/1 [==============================] - 0s 18ms/step - loss: 0.6911 - binary_accuracy: 0.6000\n",
      "Epoch 20/20\n",
      "1/1 [==============================] - 0s 21ms/step - loss: 0.6910 - binary_accuracy: 0.6000\n"
     ]
    },
    {
     "data": {
      "text/plain": [
       "<keras.callbacks.History at 0x1e502a90550>"
      ]
     },
     "execution_count": 10,
     "metadata": {},
     "output_type": "execute_result"
    }
   ],
   "source": [
    "strategy = tf.distribute.MirroredStrategy()\n",
    "with strategy.scope():\n",
    "    model = tf.keras.models.Sequential([\n",
    "        tf.keras.layers.Dense(5, input_dim=3, activation=\"relu\"),\n",
    "        tf.keras.layers.Dense(3, activation=\"relu\"),\n",
    "        tf.keras.layers.Dense(1, activation=\"sigmoid\"),\n",
    "    ])\n",
    "\n",
    "    optimizer = tf.keras.optimizers.SGD(learning_rate=0.01)\n",
    "\n",
    "    model.compile(optimizer=optimizer, loss=\"binary_crossentropy\", metrics=['binary_accuracy'])\n",
    "\n",
    "model.fit(training_features, training_label, epochs=20)"
   ]
  }
 ],
 "metadata": {
  "kernelspec": {
   "display_name": "Python 3",
   "language": "python",
   "name": "python3"
  },
  "language_info": {
   "codemirror_mode": {
    "name": "ipython",
    "version": 3
   },
   "file_extension": ".py",
   "mimetype": "text/x-python",
   "name": "python",
   "nbconvert_exporter": "python",
   "pygments_lexer": "ipython3",
   "version": "3.11.3"
  },
  "orig_nbformat": 4
 },
 "nbformat": 4,
 "nbformat_minor": 2
}
